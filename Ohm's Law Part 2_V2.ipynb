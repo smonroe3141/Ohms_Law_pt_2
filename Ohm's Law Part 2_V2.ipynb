{
 "cells": [
  {
   "cell_type": "code",
   "execution_count": 1,
   "metadata": {},
   "outputs": [],
   "source": [
    "from sympy import *\n",
    "x, y, z, t = symbols('x y z t')\n",
    "k, m, n = symbols('k m n', integer=True)\n",
    "f, g, h = symbols('f g h', cls=Function)"
   ]
  },
  {
   "cell_type": "markdown",
   "metadata": {},
   "source": [
    "<p align=\"justify\">In any active circuit there must be a source of power. In the laboratory, it is convenient to use a\n",
    "source that requires a minimum of maintenance and, more important, whose output voltage can be\n",
    "varied easily. Power supplies are rated as to maximum voltage and current output. For example,\n",
    "a supply rated 0--40 V at 500 mA will provide a maximum voltage of 40 V and a maximum current\n",
    "of 500 mA at any voltage.</p>\n",
    "<br>\n",
    "<p align=\"justify\">"
   ]
  },
  {
   "cell_type": "markdown",
   "metadata": {},
   "source": [
    " <img src=\"GPC3030Dpanel.JPG\" alt=\"GPC3030Dpanel\"> "
   ]
  },
  {
   "cell_type": "markdown",
   "metadata": {},
   "source": [
    "<p align=\"justify\">Look at the connections labeled 17 and 18 in the diagram above.These are called \"positive.\"  Connections 21 and 22 are \"negative\"\n",
    "The onnections with numbers 19 and 20 are labeled \"GND\" and they are connected to the ground prong on the power plug.\n",
    "Note that the connections we have discussed thus far are variable connections.  There is a fixed connection that provides a non-variable 5V/3A connection.  The \"positive\" side to this is labeled 24.  Negative is \"23\"<p>"
   ]
  },
  {
   "cell_type": "markdown",
   "metadata": {},
   "source": [
    "<p align=\"justify\">When measuring **voltage levels**, <u>make sure the voltmeter is connected in parallel\n",
    "(across) the element being measured</u>, as shown in the figure below. Make sure the function \"DCV\" is selected. In the picture below, this is indicated by the \"V\" and the horizontal line. In addition, recognize that if the leads\n",
    "are connected as shown in the figure, the reading will be up-scale and positive. If the meter were\n",
    "hooked up in the reverse manner, a negative (down-scale, below-zero) reading would result. The\n",
    "voltmeter is therefore an excellent instrument not only for measuring the voltage level but also for\n",
    "determining the polarity. Since the meter is always placed in parallel with the element, there is no\n",
    "need to disturb the network when the measurement is made</p>"
   ]
  },
  {
   "cell_type": "markdown",
   "metadata": {},
   "source": [
    " <img src=\"voltage_m.JPG\" alt=\"Voltage Measurement Diagram\"> "
   ]
  },
  {
   "cell_type": "markdown",
   "metadata": {},
   "source": [
    "Ammeters are always connected in series with the branch in which the current is being\n",
    "measured, as shown in the figure below, normally requiring that the branch be opened and the meter inserted.\n",
    "Ammeters also have polarity markings to indicate the manner in which they should be connected\n",
    "to obtain an up-scale reading. Since the current I of the figure would establish a voltage drop across\n",
    "the ammeter as illustrated, the reading of the ammeter will be up-scale and positive. If the meter\n",
    "were hooked up in the reverse manner, the reading would be negative or down-scale. In other words,\n",
    "simply reversing the leads will change a below-zero indication to an up-scale reading. Notice that the setting is \"A\" and DC (solid line).  On your meter this is indicated as \"DCI\""
   ]
  },
  {
   "cell_type": "markdown",
   "metadata": {},
   "source": [
    " <img src=\"current_m.JPG\" alt=\"Current Measurement Diagram\"> "
   ]
  },
  {
   "cell_type": "markdown",
   "metadata": {},
   "source": [
    "Notice that the current goes _through the meter_ before it goes through the resistor. "
   ]
  },
  {
   "cell_type": "markdown",
   "metadata": {},
   "source": [
    "Simply stated, if voltage is represented by $V$, and current is represented by $I$, and resistance is represented by $R$, then Ohm's law may be stated thus,<br><br> $$V= I \\cdot R$$"
   ]
  },
  {
   "cell_type": "markdown",
   "metadata": {},
   "source": [
    "Obviously this relationship can be rearranged.  If we know any two parameters, we can find the third."
   ]
  },
  {
   "cell_type": "markdown",
   "metadata": {},
   "source": [
    "The purpose of this laboratory exercise is to acquaint you with the equipment, **so do not rush**. \n",
    "You must become comfortable with the instruments if you expect to perform your future job function in a professional\n",
    "manner. Read the instruments carefully. The more accurate a reading, the more accurate the results\n",
    "obtained. One final word of caution. For obvious reasons, do not make network changes with the\n",
    "power on! <u>If you have any questions about the procedure, be sure to contact your instructor.</u>"
   ]
  },
  {
   "cell_type": "markdown",
   "metadata": {},
   "source": [
    "Connect the circuit below.  "
   ]
  },
  {
   "attachments": {},
   "cell_type": "markdown",
   "metadata": {},
   "source": [
    "<img src=\"Ohms_Law_1.JPG\" alt=\"Ohm's Law Connection\"> "
   ]
  },
  {
   "cell_type": "markdown",
   "metadata": {},
   "source": [
    "Adjust the power supply until $V_R=2V$ (the voltage across the resistor, not the\n",
    "supply voltage) using the VOM to monitor $V_R$. Be sure the red (positive) lead is connected to\n",
    "the point of higher potential (the terminal most positive) and the black\n",
    "(negative) lead is connected to the point of lower potential. You may find that searching for the best scale for the ammeter will affect\n",
    "the voltage across $V_R$, since changing ammeter scales will change the internal resistance of\n",
    "the ammeter. Find a scale that provides a reading of good accuracy with $V_R$ set at the\n",
    "required $2V$ for the initial setting. Repeat this procedure for each voltage listed in the table below."
   ]
  },
  {
   "cell_type": "markdown",
   "metadata": {},
   "source": [
    "<table border=\"1\" bordercolor=\"#000000\" style=\"background-color:#FFFFFF\" width=\"700\" cellpadding=\"3\" cellspacing=\"3\">\n",
    "\t<tr>\n",
    "\t\t<td>$V_R (V)$</td>\n",
    "\t\t<td>$I_R (mA)$</td>\n",
    "\t\t<td>$I_R=V/R (mA)$</td>\n",
    "\t\t<td>% $\\Delta$</td>\n",
    "\t</tr>\n",
    "\t<tr>\n",
    "\t\t<td>2V</td>\n",
    "\t\t<td>&nbsp;&nbsp;&nbsp;&nbsp;&nbsp;&nbsp;&nbsp;&nbsp;&nbsp;</td>\n",
    "\t\t<td>&nbsp;&nbsp;&nbsp;&nbsp;&nbsp;&nbsp;&nbsp;&nbsp;&nbsp;</td>\n",
    "\t\t<td>&nbsp;&nbsp;&nbsp;&nbsp;&nbsp;&nbsp;&nbsp;&nbsp;&nbsp;</td>\n",
    "\t</tr>\n",
    "\t<tr>\n",
    "\t\t<td>4V</td>\n",
    "\t\t<td>&nbsp;&nbsp;&nbsp;&nbsp;&nbsp;&nbsp;&nbsp;&nbsp;&nbsp;</td>\n",
    "\t\t<td>&nbsp;&nbsp;&nbsp;&nbsp;&nbsp;&nbsp;&nbsp;&nbsp;&nbsp;</td>\n",
    "\t\t<td>&nbsp;&nbsp;&nbsp;&nbsp;&nbsp;&nbsp;&nbsp;&nbsp;&nbsp;</td>\n",
    "\t</tr>\n",
    "\t<tr>\n",
    "\t\t<td>6V</td>\n",
    "\t\t<td>&nbsp;&nbsp;&nbsp;&nbsp;&nbsp;&nbsp;&nbsp;&nbsp;&nbsp;</td>\n",
    "\t\t<td>&nbsp;&nbsp;&nbsp;&nbsp;&nbsp;&nbsp;&nbsp;&nbsp;&nbsp;</td>\n",
    "\t\t<td>&nbsp;&nbsp;&nbsp;&nbsp;&nbsp;&nbsp;&nbsp;&nbsp;&nbsp;</td>\n",
    "\t</tr>\n",
    "\t<tr>\n",
    "\t\t<td>8V</td>\n",
    "\t\t<td>&nbsp;&nbsp;&nbsp;&nbsp;&nbsp;&nbsp;&nbsp;&nbsp;&nbsp;</td>\n",
    "\t\t<td>&nbsp;&nbsp;&nbsp;&nbsp;&nbsp;&nbsp;&nbsp;&nbsp;&nbsp;</td>\n",
    "\t\t<td>&nbsp;&nbsp;&nbsp;&nbsp;&nbsp;&nbsp;&nbsp;&nbsp;&nbsp;</td>\n",
    "\t</tr>\n",
    "\t<tr>\n",
    "\t\t<td>10V</td>\n",
    "\t\t<td>&nbsp;&nbsp;&nbsp;&nbsp;&nbsp;&nbsp;&nbsp;&nbsp;&nbsp;</td>\n",
    "\t\t<td>&nbsp;&nbsp;&nbsp;&nbsp;&nbsp;&nbsp;&nbsp;&nbsp;&nbsp;</td>\n",
    "\t\t<td>&nbsp;&nbsp;&nbsp;&nbsp;&nbsp;&nbsp;&nbsp;&nbsp;&nbsp;</td>\n",
    "\t</tr>\n",
    "\t<tr>\n",
    "\t\t<td>12V</td>\n",
    "\t\t<td>&nbsp;&nbsp;&nbsp;&nbsp;&nbsp;&nbsp;&nbsp;&nbsp;&nbsp;</td>\n",
    "\t\t<td>&nbsp;&nbsp;&nbsp;&nbsp;&nbsp;&nbsp;&nbsp;&nbsp;&nbsp;</td>\n",
    "\t\t<td>&nbsp;&nbsp;&nbsp;&nbsp;&nbsp;&nbsp;&nbsp;&nbsp;&nbsp;</td>\n",
    "\t</tr>\n",
    "</table>"
   ]
  },
  {
   "cell_type": "markdown",
   "metadata": {},
   "source": [
    "$$ \\%\\Delta=\\left | \\left ( \\frac{I_{MEAS}-I_{CALC}}{I_{MEAS}} \\right ) \\right | \\times 100$$"
   ]
  },
  {
   "cell_type": "markdown",
   "metadata": {},
   "source": [
    "Comment on the level of percent difference in the table above. Are the percent differences\n",
    "sufficiently small to establish firmly the fact that the current determined by Ohm's law will be\n",
    "very close (if not equal) to that measured directly? Answer the question in sentence form.\n",
    "<br>\n",
    "<br>\n",
    "<br>\n",
    "<br>\n",
    "<br>\n",
    "<br>\n",
    "<br>\n",
    "<br>\n",
    "<br>\n",
    "<br>"
   ]
  },
  {
   "cell_type": "markdown",
   "metadata": {},
   "source": [
    "Using the data(measured values) of the table above, plot $I_{(DMM)}$ versus $V_{R(VOM)}$\n",
    "Clearly indicate each data point on the graph. Also label the curve as $R=1k \\Omega$<br>\n",
    "Place voltage on the $x-axis$ and current on the $y-axis$.  The origin should start at $0$ (zero)."
   ]
  },
  {
   "cell_type": "markdown",
   "metadata": {},
   "source": [
    " <img src=\"grid.JPG\" alt=\"Grid\"> "
   ]
  },
  {
   "cell_type": "markdown",
   "metadata": {},
   "source": [
    "Find the current points (y-axis) where the x-axis is $V=2$, $V=5.55V$, and $V=8.3V$\n",
    "<br>\n",
    "Draw a vertical line from each of the above voltage points to the intersection of the data line.\n",
    "<br>\n",
    "Draw a horizontal line from each of the associated current points. Label the current points that correspond to the voltage points chosen.\n",
    "Calculate the slope of the line on the following intervals:<br>\n",
    "$0-2.0V$<br> $2-5.55V$<br> $5.55-8.3V$"
   ]
  },
  {
   "cell_type": "markdown",
   "metadata": {},
   "source": [
    "Annotate the graph with the slopes for each interval."
   ]
  },
  {
   "cell_type": "markdown",
   "metadata": {},
   "source": [
    "$$slope=m=\\frac{\\Delta y}{\\Delta x}$$"
   ]
  },
  {
   "cell_type": "markdown",
   "metadata": {},
   "source": [
    "Note that according to Ohm's law, resistance is ... $$R=\\frac{V}{I}$$ but is plot shows ... $$G=\\frac{I}{V}$$  $G$ is the \"conductance\" of the resistor, and is related to resistance ... $$G=\\frac{1}{R}$$"
   ]
  },
  {
   "cell_type": "markdown",
   "metadata": {},
   "source": [
    "The unit of $G$ is \"Siemens\" which may have an SI prefix appended to it such as $mS$, $\\mu S$, etc..."
   ]
  },
  {
   "cell_type": "markdown",
   "metadata": {},
   "source": [
    "For example, a resistor with $R=2k \\Omega$, would have $G=\\frac{1}{2000}=500 \\mu S$"
   ]
  },
  {
   "cell_type": "code",
   "execution_count": 2,
   "metadata": {},
   "outputs": [
    {
     "name": "stdout",
     "output_type": "stream",
     "text": [
      "G: 5.000e-04 S\n"
     ]
    }
   ],
   "source": [
    "R=2000.\n",
    "G=1/R\n",
    "print(\"G:\",'{0:.3e}'.format(G),\"S\")"
   ]
  },
  {
   "cell_type": "markdown",
   "metadata": {},
   "source": [
    "Using the slopes you found for the graph, indicate the resistance for each interval:"
   ]
  },
  {
   "cell_type": "markdown",
   "metadata": {},
   "source": [
    "<table>\n",
    "  <tr>\n",
    "    <th>Interval</th>\n",
    "    <th>Slope<br>(Siemens)<br></th>\n",
    "    <th>Resistance<br>1/G=R<br></th>\n",
    "  </tr>\n",
    "  <tr>\n",
    "    <td>0V-2V</td>\n",
    "    <td></td>\n",
    "    <td></td>\n",
    "  </tr>\n",
    "  <tr>\n",
    "    <td>2V-5.55V</td>\n",
    "    <td></td>\n",
    "    <td></td>\n",
    "  </tr>\n",
    "  <tr>\n",
    "    <td>5.55V-8.3V</td>\n",
    "    <td></td>\n",
    "    <td></td>\n",
    "  </tr>\n",
    "</table>"
   ]
  },
  {
   "cell_type": "markdown",
   "metadata": {},
   "source": [
    "Repeat the above process for $R=3.3k \\Omega$... annotate the data directly onto the graph..."
   ]
  },
  {
   "cell_type": "markdown",
   "metadata": {},
   "source": [
    "<img src=\"grid.JPG\" alt=\"Grid\"> "
   ]
  },
  {
   "cell_type": "markdown",
   "metadata": {},
   "source": [
    "Create a plot for $R=100 \\Omega$ and $R=10k \\Omega$ on the same plot..."
   ]
  },
  {
   "cell_type": "markdown",
   "metadata": {},
   "source": [
    "<img src=\"grid.JPG\" alt=\"Grid\"> "
   ]
  },
  {
   "cell_type": "markdown",
   "metadata": {},
   "source": [
    "As the resistance increases, does the slope increase or decrease? \n",
    "<br>\n",
    "<br>\n",
    "<br>\n",
    "<br>\n",
    "<br>\n",
    "<br>\n",
    "<br>\n",
    "<br>\n",
    "<br>\n",
    "<br>\n",
    "<br>"
   ]
  },
  {
   "cell_type": "markdown",
   "metadata": {},
   "source": [
    "What is the shape of the data plot for a resistor?\n",
    "<br>\n",
    "<br>\n",
    "<br>\n",
    "<br>\n",
    "<br>\n",
    "<br>\n",
    "<br>\n",
    "<br>"
   ]
  }
 ],
 "metadata": {
  "kernelspec": {
   "display_name": "Python 3",
   "language": "python",
   "name": "python3"
  },
  "language_info": {
   "codemirror_mode": {
    "name": "ipython",
    "version": 3
   },
   "file_extension": ".py",
   "mimetype": "text/x-python",
   "name": "python",
   "nbconvert_exporter": "python",
   "pygments_lexer": "ipython3",
   "version": "3.6.3"
  }
 },
 "nbformat": 4,
 "nbformat_minor": 2
}
